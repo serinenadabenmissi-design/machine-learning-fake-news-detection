{
 "cells": [
  {
   "cell_type": "code",
   "execution_count": 5,
   "id": "d967d348",
   "metadata": {},
   "outputs": [],
   "source": [
    "import pandas as pd\n",
    "\n",
    "\n",
    "df=pd.read_csv(\"fake.csv\")\n",
    "cols=['title','text','domain_rank','country','type']\n",
    "df_new=df[cols].copy()\n",
    "df_new['domain_rank'] = df_new['domain_rank'].fillna(df_new['domain_rank'].median())\n",
    "df_new['country'] = df_new['country'].fillna(\"unknown\")\n",
    "df_new = df_new.dropna(subset=['title','text'])\n"
   ]
  },
  {
   "cell_type": "code",
   "execution_count": 6,
   "id": "fb9e6c25",
   "metadata": {},
   "outputs": [
    {
     "name": "stderr",
     "output_type": "stream",
     "text": [
      "[nltk_data] Downloading package stopwords to C:\\Users\\Ben Miss\n",
      "[nltk_data]     i\\AppData\\Roaming\\nltk_data...\n",
      "[nltk_data]   Package stopwords is already up-to-date!\n",
      "[nltk_data] Downloading package wordnet to C:\\Users\\Ben Miss\n",
      "[nltk_data]     i\\AppData\\Roaming\\nltk_data...\n",
      "[nltk_data]   Package wordnet is already up-to-date!\n"
     ]
    },
    {
     "name": "stdout",
     "output_type": "stream",
     "text": [
      "Before: Muslims BUSTED: They Stole Millions In Gov’t Benefits\n",
      "After: muslim busted stole million gov’t benefit\n"
     ]
    }
   ],
   "source": [
    "#clean text\n",
    "\n",
    "import re #delete num,symbols\n",
    "import string #provide the list of punctuation symbols\n",
    "import nltk \n",
    "from nltk.corpus import stopwords #common words: the,is,at..\n",
    "from nltk.stem import WordNetLemmatizer  #delete all the words with the same meaninng\n",
    "\n",
    "\n",
    "nltk.download('stopwords')\n",
    "stop_words=set(stopwords.words('english'))\n",
    "\n",
    "nltk.download('wordnet')\n",
    "lem=WordNetLemmatizer()\n",
    "\n",
    "def clean_text(text):\n",
    "    #if text is empty return blank\n",
    "    if pd.isnull(text):\n",
    "        return \"\"\n",
    "    \n",
    "    text=text.lower()\n",
    "    #delete digits\n",
    "    text=re.sub(r'\\d+','',text)\n",
    "\n",
    "    #delete puntuation\n",
    "    text=text.translate(str.maketrans('','',string.punctuation))\n",
    "\n",
    "    #delete stopwords\n",
    "    text = \" \".join(filter(lambda word: word not in stop_words, text.split()))\n",
    "    \n",
    "    \n",
    "    #lemmatize\n",
    "    text=\" \".join([lem.lemmatize(word) for word in text.split()])\n",
    "\n",
    "\n",
    "    #delete useless blanks\n",
    "    text=text.strip()\n",
    "\n",
    "    return text\n",
    "\n",
    "df_new['title_clean']=df_new['title'].apply(clean_text)\n",
    "df_new['text_clean']=df_new['text'].apply(clean_text)\n",
    "\n",
    "print(\"Before:\", df_new['title'].iloc[0])\n",
    "print(\"After:\", df_new['title_clean'].iloc[0])"
   ]
  },
  {
   "cell_type": "code",
   "execution_count": 7,
   "id": "269184dc",
   "metadata": {},
   "outputs": [
    {
     "name": "stdout",
     "output_type": "stream",
     "text": [
      "(12273, 5000)\n"
     ]
    }
   ],
   "source": [
    "#transform text+title from string to numerical\n",
    "from sklearn.feature_extraction.text import TfidfVectorizer\n",
    "\n",
    "df_trans=df_new['title_clean']+\" \"+df_new['text_clean']\n",
    "\n",
    "vect=TfidfVectorizer(max_features=5000,ngram_range=(1,2),min_df=5,max_df=0.8)\n",
    "\n",
    "tf_idf=vect.fit_transform(df_trans)\n",
    "\n",
    "print(tf_idf.shape)"
   ]
  },
  {
   "cell_type": "code",
   "execution_count": 8,
   "id": "183cef2c",
   "metadata": {},
   "outputs": [
    {
     "name": "stdout",
     "output_type": "stream",
     "text": [
      "                                               title  \\\n",
      "0  Muslims BUSTED: They Stole Millions In Gov’t B...   \n",
      "1  Re: Why Did Attorney General Loretta Lynch Ple...   \n",
      "2  BREAKING: Weiner Cooperating With FBI On Hilla...   \n",
      "3  PIN DROP SPEECH BY FATHER OF DAUGHTER Kidnappe...   \n",
      "4  FANTASTIC! TRUMP'S 7 POINT PLAN To Reform Heal...   \n",
      "\n",
      "                                                text  domain_rank country  \\\n",
      "0  Print They should pay all the back all the mon...      25689.0      US   \n",
      "1  Why Did Attorney General Loretta Lynch Plead T...      25689.0      US   \n",
      "2  Red State : \\nFox News Sunday reported this mo...      25689.0      US   \n",
      "3  Email Kayla Mueller was a prisoner and torture...      25689.0      US   \n",
      "4  Email HEALTHCARE REFORM TO MAKE AMERICA GREAT ...      25689.0      US   \n",
      "\n",
      "   type                                        title_clean  \\\n",
      "0  bias          muslim busted stole million gov’t benefit   \n",
      "1  bias         attorney general loretta lynch plead fifth   \n",
      "2  bias  breaking weiner cooperating fbi hillary email ...   \n",
      "3  bias  pin drop speech father daughter kidnapped kill...   \n",
      "4  bias  fantastic trump point plan reform healthcare b...   \n",
      "\n",
      "                                          text_clean  country_AU  country_BG  \\\n",
      "0  print pay back money plus interest entire fami...         0.0         0.0   \n",
      "1  attorney general loretta lynch plead fifth bar...         0.0         0.0   \n",
      "2  red state fox news sunday reported morning ant...         0.0         0.0   \n",
      "3  email kayla mueller prisoner tortured isi chan...         0.0         0.0   \n",
      "4  email healthcare reform make america great sin...         0.0         0.0   \n",
      "\n",
      "   country_CA  ...  country_LI  country_ME  country_NL  country_RU  \\\n",
      "0         0.0  ...         0.0         0.0         0.0         0.0   \n",
      "1         0.0  ...         0.0         0.0         0.0         0.0   \n",
      "2         0.0  ...         0.0         0.0         0.0         0.0   \n",
      "3         0.0  ...         0.0         0.0         0.0         0.0   \n",
      "4         0.0  ...         0.0         0.0         0.0         0.0   \n",
      "\n",
      "   country_SE  country_SG  country_TV  country_US  country_ZA  country_unknown  \n",
      "0         0.0         0.0         0.0         1.0         0.0              0.0  \n",
      "1         0.0         0.0         0.0         1.0         0.0              0.0  \n",
      "2         0.0         0.0         0.0         1.0         0.0              0.0  \n",
      "3         0.0         0.0         0.0         1.0         0.0              0.0  \n",
      "4         0.0         0.0         0.0         1.0         0.0              0.0  \n",
      "\n",
      "[5 rows x 32 columns]\n",
      "country_AU            1.0\n",
      "country_BG           19.0\n",
      "country_CA          103.0\n",
      "country_CH            1.0\n",
      "country_CO           17.0\n",
      "country_DE          191.0\n",
      "country_EE            4.0\n",
      "country_ES          100.0\n",
      "country_EU          112.0\n",
      "country_FR          161.0\n",
      "country_GB          831.0\n",
      "country_IN           23.0\n",
      "country_IO            1.0\n",
      "country_IR            7.0\n",
      "country_IS          100.0\n",
      "country_LI           10.0\n",
      "country_ME           34.0\n",
      "country_NL           55.0\n",
      "country_RU          400.0\n",
      "country_SE            1.0\n",
      "country_SG            2.0\n",
      "country_TV          201.0\n",
      "country_US         9720.0\n",
      "country_ZA            3.0\n",
      "country_unknown     176.0\n",
      "dtype: float64\n"
     ]
    }
   ],
   "source": [
    "#encode country\n",
    "\n",
    "from sklearn.preprocessing import OneHotEncoder\n",
    "\n",
    "encoder=OneHotEncoder()\n",
    "\n",
    "country_encode=encoder.fit_transform(df_new[['country']])\n",
    "\n",
    "country_df=pd.DataFrame(country_encode.toarray(),columns=encoder.get_feature_names_out(['country']))\n",
    "\n",
    "df_new = df_new.reset_index(drop=True)\n",
    "country_df = country_df.reset_index(drop=True)\n",
    "\n",
    "df_encode=pd.concat([df_new,country_df],axis=1)\n",
    "print(df_encode.head())\n",
    "print(country_df.sum())"
   ]
  },
  {
   "cell_type": "code",
   "execution_count": 9,
   "id": "f639dbf3",
   "metadata": {},
   "outputs": [
    {
     "name": "stdout",
     "output_type": "stream",
     "text": [
      "(12273, 5025)\n",
      "(12273,)\n"
     ]
    }
   ],
   "source": [
    "#tf-idf+hotone\n",
    "\n",
    "from scipy.sparse import hstack\n",
    "\n",
    "features_new=country_df.values\n",
    "x=hstack([tf_idf,features_new])\n",
    "y=df_new['type'].values\n",
    "\n",
    "print(x.shape)\n",
    "print(y.shape)\n",
    "\n",
    "\n"
   ]
  },
  {
   "cell_type": "code",
   "execution_count": 10,
   "id": "46314838",
   "metadata": {},
   "outputs": [
    {
     "name": "stdout",
     "output_type": "stream",
     "text": [
      "(12273, 5026)\n",
      "(12273,)\n",
      "                                          text_clean  domain_rank_scaled\n",
      "0  print pay back money plus interest entire fami...            0.256668\n",
      "1  attorney general loretta lynch plead fifth bar...            0.256668\n",
      "2  red state fox news sunday reported morning ant...            0.256668\n",
      "3  email kayla mueller prisoner tortured isi chan...            0.256668\n",
      "4  email healthcare reform make america great sin...            0.256668\n"
     ]
    }
   ],
   "source": [
    "#normalizing numerical data\n",
    "from sklearn.preprocessing import MinMaxScaler\n",
    "\n",
    "\n",
    "scaler=MinMaxScaler()\n",
    "\n",
    "df_new['domain_rank_scaled']=scaler.fit_transform(df_new[['domain_rank']])\n",
    "\n",
    "#tf-idf+hotone+normalization\n",
    "\n",
    "x_final=hstack([x,df_new[['domain_rank_scaled']].values])\n",
    "y=df_new['type'].values\n",
    "\n",
    "print(x_final.shape)\n",
    "print(y.shape)\n",
    "print(df_new[['text_clean','domain_rank_scaled']].head())\n",
    "\n",
    "\n",
    "\n"
   ]
  },
  {
   "cell_type": "code",
   "execution_count": 34,
   "id": "0ab5624f",
   "metadata": {},
   "outputs": [
    {
     "name": "stdout",
     "output_type": "stream",
     "text": [
      "              precision    recall  f1-score   support\n",
      "\n",
      "          bs       0.91      1.00      0.95      3276\n",
      "      others       0.98      0.23      0.37       406\n",
      "\n",
      "    accuracy                           0.91      3682\n",
      "   macro avg       0.95      0.61      0.66      3682\n",
      "weighted avg       0.92      0.91      0.89      3682\n",
      "\n",
      "Accuracy: 0.8669950738916257\n",
      "Confusion Matrix:\n",
      " [[102   0   0   3   1   0   0]\n",
      " [  6 113   0   3   2   0   0]\n",
      " [  0   6   0   0   0   0   0]\n",
      " [  3  16   0  54   1   0   0]\n",
      " [  3   1   0   1  25   0   0]\n",
      " [  3   2   0   1   0  24   0]\n",
      " [  0   2   0   0   0   0  34]]\n",
      "              precision    recall  f1-score   support\n",
      "\n",
      "        bias       0.87      0.96      0.91       106\n",
      "  conspiracy       0.81      0.91      0.86       124\n",
      "        fake       0.00      0.00      0.00         6\n",
      "        hate       0.87      0.73      0.79        74\n",
      "     junksci       0.86      0.83      0.85        30\n",
      "      satire       1.00      0.80      0.89        30\n",
      "       state       1.00      0.94      0.97        36\n",
      "\n",
      "    accuracy                           0.87       406\n",
      "   macro avg       0.77      0.74      0.75       406\n",
      "weighted avg       0.86      0.87      0.86       406\n",
      "\n"
     ]
    },
    {
     "name": "stderr",
     "output_type": "stream",
     "text": [
      "c:\\Users\\Ben Miss i\\AppData\\Local\\Programs\\Python\\Python310\\lib\\site-packages\\sklearn\\metrics\\_classification.py:1731: UndefinedMetricWarning: Precision is ill-defined and being set to 0.0 in labels with no predicted samples. Use `zero_division` parameter to control this behavior.\n",
      "  _warn_prf(average, modifier, f\"{metric.capitalize()} is\", result.shape[0])\n",
      "c:\\Users\\Ben Miss i\\AppData\\Local\\Programs\\Python\\Python310\\lib\\site-packages\\sklearn\\metrics\\_classification.py:1731: UndefinedMetricWarning: Precision is ill-defined and being set to 0.0 in labels with no predicted samples. Use `zero_division` parameter to control this behavior.\n",
      "  _warn_prf(average, modifier, f\"{metric.capitalize()} is\", result.shape[0])\n",
      "c:\\Users\\Ben Miss i\\AppData\\Local\\Programs\\Python\\Python310\\lib\\site-packages\\sklearn\\metrics\\_classification.py:1731: UndefinedMetricWarning: Precision is ill-defined and being set to 0.0 in labels with no predicted samples. Use `zero_division` parameter to control this behavior.\n",
      "  _warn_prf(average, modifier, f\"{metric.capitalize()} is\", result.shape[0])\n"
     ]
    }
   ],
   "source": [
    "import numpy as np\n",
    "from sklearn.ensemble import RandomForestClassifier\n",
    "from sklearn.metrics import classification_report, accuracy_score, confusion_matrix\n",
    "\n",
    "from sklearn.model_selection import train_test_split\n",
    "\n",
    "# تقسيم البيانات\n",
    "x_train, x_test, y_train, y_test = train_test_split(\n",
    "    x_final, y, test_size=0.3, random_state=42, stratify=y\n",
    ")\n",
    "\n",
    "# labels: bs vs. others\n",
    "y_binary_train = np.where(y_train == \"bs\", \"bs\", \"others\")\n",
    "y_binary_test  = np.where(y_test == \"bs\", \"bs\", \"others\")\n",
    "\n",
    "\n",
    "rf_binary = RandomForestClassifier(class_weight=\"balanced\", random_state=42)\n",
    "rf_binary.fit(x_train, y_binary_train)\n",
    "\n",
    "y_pred_binary = rf_binary.predict(x_test)\n",
    "print(classification_report(y_binary_test, y_pred_binary))\n",
    "\n",
    "\n",
    "mask_train = (y_train != \"bs\")\n",
    "mask_test = (y_test != \"bs\")\n",
    "\n",
    "x_train_others, y_train_others = x_train[mask_train], y_train[mask_train]\n",
    "x_test_others, y_test_others   = x_test[mask_test], y_test[mask_test]\n",
    "\n",
    "rf_multi = RandomForestClassifier(class_weight=\"balanced\", random_state=42)\n",
    "rf_multi.fit(x_train_others, y_train_others)\n",
    "\n",
    "y_pred_multi = rf_multi.predict(x_test_others)\n",
    "print(\"Accuracy:\", accuracy_score(y_test_others, y_pred_multi))\n",
    "print(\"Confusion Matrix:\\n\", confusion_matrix(y_test_others, y_pred_multi))\n",
    "print(classification_report(y_test_others, y_pred_multi))\n",
    "\n"
   ]
  },
  {
   "cell_type": "code",
   "execution_count": 35,
   "id": "a750b3d8",
   "metadata": {},
   "outputs": [
    {
     "name": "stdout",
     "output_type": "stream",
     "text": [
      "1.0\n",
      "0.9633351439435089\n",
      "[[  98    8    0    0    0    0    0    0]\n",
      " [   1 3231    5   11    9    0   13    6]\n",
      " [   0    7  115    1    0    0    1    0]\n",
      " [   0    6    0    0    0    0    0    0]\n",
      " [   0   40    0    0   34    0    0    0]\n",
      " [   0    0    0    0    0   30    0    0]\n",
      " [   0   20    0    0    0    0   10    0]\n",
      " [   0    7    0    0    0    0    0   29]]\n",
      "              precision    recall  f1-score   support\n",
      "\n",
      "        bias       0.99      0.92      0.96       106\n",
      "          bs       0.97      0.99      0.98      3276\n",
      "  conspiracy       0.96      0.93      0.94       124\n",
      "        fake       0.00      0.00      0.00         6\n",
      "        hate       0.79      0.46      0.58        74\n",
      "     junksci       1.00      1.00      1.00        30\n",
      "      satire       0.42      0.33      0.37        30\n",
      "       state       0.83      0.81      0.82        36\n",
      "\n",
      "    accuracy                           0.96      3682\n",
      "   macro avg       0.74      0.68      0.71      3682\n",
      "weighted avg       0.96      0.96      0.96      3682\n",
      "\n"
     ]
    }
   ],
   "source": [
    "from sklearn.ensemble import GradientBoostingClassifier\n",
    "\n",
    "gb_model=GradientBoostingClassifier(n_estimators=100,random_state=42)\n",
    "gb_model.fit(x_train,y_train)\n",
    "\n",
    "y_pred_gb_train=gb_model.predict(x_train)\n",
    "y_pred_gb=gb_model.predict(x_test)\n",
    "\n",
    "print(accuracy_score(y_train,y_pred_gb_train))\n",
    "print(accuracy_score(y_test,y_pred_gb))\n",
    "print(confusion_matrix(y_test,y_pred_gb))\n",
    "print(classification_report(y_test,y_pred_gb))"
   ]
  }
 ],
 "metadata": {
  "kernelspec": {
   "display_name": "Python 3",
   "language": "python",
   "name": "python3"
  },
  "language_info": {
   "codemirror_mode": {
    "name": "ipython",
    "version": 3
   },
   "file_extension": ".py",
   "mimetype": "text/x-python",
   "name": "python",
   "nbconvert_exporter": "python",
   "pygments_lexer": "ipython3",
   "version": "3.10.2"
  }
 },
 "nbformat": 4,
 "nbformat_minor": 5
}
